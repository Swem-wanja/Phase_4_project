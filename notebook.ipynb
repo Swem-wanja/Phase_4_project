{
 "cells": [
  {
   "cell_type": "markdown",
   "metadata": {},
   "source": [
    "# PHASE 4 PROJECT:\n",
    "# DEVELOPMENT AND EVALUATION OF A MACHINE LEARNING-BASED DJIA PREDICTION SYSTEM.\n",
    "\n",
    "| Collaborators        | \n",
    "| -------------------- |\n",
    "| Ian Vaati            |\n",
    "| Sylvia Murithi       |\n",
    "| Bushra Mohammed      |\n",
    "\n",
    "**Project Submission Date:** December 11th, 2023.\n"
   ]
  },
  {
   "cell_type": "markdown",
   "metadata": {},
   "source": [
    "# BUSINESS UNDERSTANDING."
   ]
  },
  {
   "cell_type": "markdown",
   "metadata": {},
   "source": [
    "## Executive Summary\n",
    "\n",
    "The stock market is a complex and dynamic system that plays a crucial role in the global economy. Predicting stock market movements can provide valuable insights for investors and financial institutions, enabling them to make informed decisions about investment strategies and risk management. This project aims to develop a machine learning model capable of predicting the short-term movement of the Dow Jones Industrial Average (DJIA), a prominent stock market index, using historical data.\n",
    "\n"
   ]
  },
  {
   "cell_type": "markdown",
   "metadata": {},
   "source": [
    "## Business Problem\n",
    "\n",
    "Accurately forecasting stock market movements is a challenging task due to the inherent volatility and unpredictability of financial markets. Existing forecasting methods often rely on simple technical indicators or subjective analysis, which may not capture the full complexity of market dynamics. A more sophisticated approach is needed to provide accurate and consistent predictions that can inform investment decisions."
   ]
  },
  {
   "cell_type": "markdown",
   "metadata": {},
   "source": [
    "## Business Objectives\n",
    "\n",
    "* **Forecasting Accuracy:** Develop accurate and reliable models to predict future trends in the Dow Jones Industrial Average, allowing stakeholders to anticipate market movements with greater precision.\n",
    "\n",
    "* **Risk Mitigation:** Provide insights into potential market risks and opportunities, enabling proactive risk management strategies for investors and financial institutions.\n",
    "\n",
    "* **Decision Support:** Equip decision-makers with actionable information derived from predictive models, empowering them to make informed investment decisions and optimize portfolio management.\n",
    "\n",
    "* **Market Intelligence:** Enhance market intelligence by identifying patterns, trends, and key indicators that contribute to a deeper understanding of market dynamics.\n",
    "\n",
    "### Business Benefits\n",
    "\n",
    "Accurate stock market predictions can provide several benefits to investors and financial institutions:\n",
    "\n",
    "* **Improved Investment Decisions:** By understanding the direction of market movements, investors can make more informed decisions about buying, selling, or holding stocks.\n",
    "\n",
    "\n",
    "* **Risk Management:** Accurate predictions can help investors identify potential risks and take appropriate measures to mitigate them.\n",
    "\n",
    "* **Enhanced Financial Planning:** Financial institutions can use stock market predictions to develop more effective investment strategies and risk management plans.\n",
    "\n",
    "### Business Stakeholders\n",
    "The target stakeholders for this project includes:\n",
    "\n",
    "* **Individual Investors:** Individuals seeking to make informed investment decisions based on market predictions.\n",
    "\n",
    "* **Financial Institutions:** Banks and financial organizations aiming to enhance their risk management strategies.\n",
    "\n",
    "* **Financial Analysts:** Analysts who need to forecast market movements for research and reporting purposes.\n",
    "\n",
    "* **Portfolio Managers:** Individuals responsible for managing investment portfolios, seeking tools to optimize performance."
   ]
  },
  {
   "cell_type": "markdown",
   "metadata": {},
   "source": [
    "## Key Deliverables\n",
    "The project will focus on the following:\n",
    "* **Predictive Models:** Develop and deploy machine learning models capable of forecasting future values of the Dow Jones Industrial Average.\n",
    "\n",
    "* **Visualizations and Reports:** Provide visually appealing and informative representations of market trends, predictions, and relevant indicators to aid decision-makers.\n",
    "\n",
    "* **Documentation:** Create comprehensive documentation detailing the project's methodologies, data sources, model selection, and performance evaluation.\n",
    "\n",
    "* **Training and Support:** Offer training sessions and ongoing support to stakeholders on interpreting and utilizing the predictive models effectively."
   ]
  },
  {
   "cell_type": "markdown",
   "metadata": {},
   "source": [
    "## Success Criteria\n",
    "The project will be considered successful if the following criteria are met:\n",
    "\n",
    "* The developed machine learning model accurately predicts the direction of DJIA movement (up, down, or sideways) for the specified time horizon.\n",
    "\n",
    "* The model consistently outperforms benchmark models, such as a simple moving average.\n",
    "\n",
    "* The web application or API provides a user-friendly interface for obtaining DJIA predictions.\n",
    "\n",
    "By achieving these success criteria, the project will demonstrate the potential of machine learning to provide valuable insights into stock market movements, empowering investors and financial institutions to make informed decisions."
   ]
  },
  {
   "cell_type": "markdown",
   "metadata": {},
   "source": [
    "# Methodology"
   ]
  },
  {
   "cell_type": "markdown",
   "metadata": {},
   "source": [
    "## Research Questions\n",
    "\n",
    "1. Can historical data from Dow Joes Industrial Average (DJIA) be used to predict future market trends accurately?\n",
    "\n",
    "2. What key features or indicators contribte significantly to predicting stock market movements?\n",
    "\n",
    "3. Which machine learning algorithms are best suited for predicting DJIA movement?\n",
    "\n",
    "## Hypothesis\n",
    "\n",
    "1. Historical trends and patterns in Dow Jones data can be leveraged to forecast future market trends with reasonable accuracy.\n",
    "\n",
    "2. Technical indicators like moving averages, relative strength index (RSI), and MACD will be crucial features for predicting stock market trends.\n",
    "\n",
    "3. Time series forecasting models like ARIMA, LSTM, and Prophet will outperform basic regression models in predicting stock market movements."
   ]
  },
  {
   "cell_type": "markdown",
   "metadata": {},
   "source": [
    "## Research Design\n",
    "* **Analytical Approach:** Utilize an analytical approach by applying various machine learning models to historical Dow Jones data to forecast future trends.\n",
    "\n",
    "* **Time Series Analysis:** Focus on time series analysis methodologies to capture the sequential nature of stock market data."
   ]
  },
  {
   "cell_type": "markdown",
   "metadata": {},
   "source": [
    "## Data Description\n",
    "### Data Source:\n",
    "The data for this project was collected from the investing.com website, which provides historical data for various financial indices, including the Dow Jones Industrial Average (DJIA). The data covers a period from 01/03/2000 to 11/24/2023 and includes the following attributes:\n",
    "\n",
    "### Data Variables:\n",
    "1. **Date:** Represents the date for which the data is recorded.\n",
    "\n",
    "2. **Close:** Represents the closing price of the DJIA for the specified date.\n",
    "\n",
    "3. **Open:** Represents the opening price of the DJIA for the specified date.\n",
    "\n",
    "4. **High:** Represents the highest price reached by the DJIA during the specified day.\n",
    "\n",
    "5. **Low:** Represents the lowest price reached by the DJIA during the specified day.\n",
    "\n",
    "6. **Volume:** Represents the total trading volume of the DJIA for the specified day.\n",
    "\n",
    "7. **Change %:** Represents "
   ]
  },
  {
   "cell_type": "markdown",
   "metadata": {},
   "source": [
    "# Data Analysis"
   ]
  },
  {
   "cell_type": "markdown",
   "metadata": {},
   "source": [
    "### Load the Data"
   ]
  },
  {
   "cell_type": "code",
   "execution_count": 5,
   "metadata": {},
   "outputs": [],
   "source": [
    "# Import relevant libraries \n",
    "import pandas as pd"
   ]
  },
  {
   "cell_type": "code",
   "execution_count": 6,
   "metadata": {},
   "outputs": [
    {
     "data": {
      "text/html": [
       "<div>\n",
       "<style scoped>\n",
       "    .dataframe tbody tr th:only-of-type {\n",
       "        vertical-align: middle;\n",
       "    }\n",
       "\n",
       "    .dataframe tbody tr th {\n",
       "        vertical-align: top;\n",
       "    }\n",
       "\n",
       "    .dataframe thead th {\n",
       "        text-align: right;\n",
       "    }\n",
       "</style>\n",
       "<table border=\"1\" class=\"dataframe\">\n",
       "  <thead>\n",
       "    <tr style=\"text-align: right;\">\n",
       "      <th></th>\n",
       "      <th>Date</th>\n",
       "      <th>Price</th>\n",
       "      <th>Open</th>\n",
       "      <th>High</th>\n",
       "      <th>Low</th>\n",
       "      <th>Vol.</th>\n",
       "      <th>Change %</th>\n",
       "    </tr>\n",
       "  </thead>\n",
       "  <tbody>\n",
       "    <tr>\n",
       "      <th>0</th>\n",
       "      <td>11/24/2023</td>\n",
       "      <td>35,390.57</td>\n",
       "      <td>35,299.90</td>\n",
       "      <td>35,399.04</td>\n",
       "      <td>35,299.90</td>\n",
       "      <td>97.67M</td>\n",
       "      <td>0.33%</td>\n",
       "    </tr>\n",
       "    <tr>\n",
       "      <th>1</th>\n",
       "      <td>11/22/2023</td>\n",
       "      <td>35,272.77</td>\n",
       "      <td>35,189.33</td>\n",
       "      <td>35,315.12</td>\n",
       "      <td>35,155.80</td>\n",
       "      <td>232.92M</td>\n",
       "      <td>0.53%</td>\n",
       "    </tr>\n",
       "    <tr>\n",
       "      <th>2</th>\n",
       "      <td>11/21/2023</td>\n",
       "      <td>35,088.29</td>\n",
       "      <td>35,113.50</td>\n",
       "      <td>35,117.26</td>\n",
       "      <td>35,038.99</td>\n",
       "      <td>263.11M</td>\n",
       "      <td>-0.18%</td>\n",
       "    </tr>\n",
       "    <tr>\n",
       "      <th>3</th>\n",
       "      <td>11/20/2023</td>\n",
       "      <td>35,150.97</td>\n",
       "      <td>34,928.27</td>\n",
       "      <td>35,226.82</td>\n",
       "      <td>34,907.98</td>\n",
       "      <td>320.68M</td>\n",
       "      <td>0.58%</td>\n",
       "    </tr>\n",
       "    <tr>\n",
       "      <th>4</th>\n",
       "      <td>11/17/2023</td>\n",
       "      <td>34,947.28</td>\n",
       "      <td>35,018.83</td>\n",
       "      <td>35,028.22</td>\n",
       "      <td>34,883.03</td>\n",
       "      <td>323.66M</td>\n",
       "      <td>0.00%</td>\n",
       "    </tr>\n",
       "    <tr>\n",
       "      <th>...</th>\n",
       "      <td>...</td>\n",
       "      <td>...</td>\n",
       "      <td>...</td>\n",
       "      <td>...</td>\n",
       "      <td>...</td>\n",
       "      <td>...</td>\n",
       "      <td>...</td>\n",
       "    </tr>\n",
       "    <tr>\n",
       "      <th>6008</th>\n",
       "      <td>01/07/2000</td>\n",
       "      <td>11,522.56</td>\n",
       "      <td>11,247.06</td>\n",
       "      <td>11,528.14</td>\n",
       "      <td>11,239.92</td>\n",
       "      <td>184.90M</td>\n",
       "      <td>2.39%</td>\n",
       "    </tr>\n",
       "    <tr>\n",
       "      <th>6009</th>\n",
       "      <td>01/06/2000</td>\n",
       "      <td>11,253.27</td>\n",
       "      <td>11,113.37</td>\n",
       "      <td>11,313.45</td>\n",
       "      <td>11,098.45</td>\n",
       "      <td>176.55M</td>\n",
       "      <td>1.17%</td>\n",
       "    </tr>\n",
       "    <tr>\n",
       "      <th>6010</th>\n",
       "      <td>01/05/2000</td>\n",
       "      <td>11,122.66</td>\n",
       "      <td>10,989.37</td>\n",
       "      <td>11,215.10</td>\n",
       "      <td>10,938.67</td>\n",
       "      <td>203.19M</td>\n",
       "      <td>1.13%</td>\n",
       "    </tr>\n",
       "    <tr>\n",
       "      <th>6011</th>\n",
       "      <td>01/04/2000</td>\n",
       "      <td>10,997.94</td>\n",
       "      <td>11,349.75</td>\n",
       "      <td>11,350.06</td>\n",
       "      <td>10,986.45</td>\n",
       "      <td>178.42M</td>\n",
       "      <td>-3.17%</td>\n",
       "    </tr>\n",
       "    <tr>\n",
       "      <th>6012</th>\n",
       "      <td>01/03/2000</td>\n",
       "      <td>11,357.51</td>\n",
       "      <td>11,501.85</td>\n",
       "      <td>11,522.01</td>\n",
       "      <td>11,305.69</td>\n",
       "      <td>169.75M</td>\n",
       "      <td>-1.21%</td>\n",
       "    </tr>\n",
       "  </tbody>\n",
       "</table>\n",
       "<p>6013 rows × 7 columns</p>\n",
       "</div>"
      ],
      "text/plain": [
       "            Date      Price       Open       High        Low     Vol. Change %\n",
       "0     11/24/2023  35,390.57  35,299.90  35,399.04  35,299.90   97.67M    0.33%\n",
       "1     11/22/2023  35,272.77  35,189.33  35,315.12  35,155.80  232.92M    0.53%\n",
       "2     11/21/2023  35,088.29  35,113.50  35,117.26  35,038.99  263.11M   -0.18%\n",
       "3     11/20/2023  35,150.97  34,928.27  35,226.82  34,907.98  320.68M    0.58%\n",
       "4     11/17/2023  34,947.28  35,018.83  35,028.22  34,883.03  323.66M    0.00%\n",
       "...          ...        ...        ...        ...        ...      ...      ...\n",
       "6008  01/07/2000  11,522.56  11,247.06  11,528.14  11,239.92  184.90M    2.39%\n",
       "6009  01/06/2000  11,253.27  11,113.37  11,313.45  11,098.45  176.55M    1.17%\n",
       "6010  01/05/2000  11,122.66  10,989.37  11,215.10  10,938.67  203.19M    1.13%\n",
       "6011  01/04/2000  10,997.94  11,349.75  11,350.06  10,986.45  178.42M   -3.17%\n",
       "6012  01/03/2000  11,357.51  11,501.85  11,522.01  11,305.69  169.75M   -1.21%\n",
       "\n",
       "[6013 rows x 7 columns]"
      ]
     },
     "execution_count": 6,
     "metadata": {},
     "output_type": "execute_result"
    }
   ],
   "source": [
    "# Load and display the dataset\n",
    "df = pd.read_csv('C:\\\\Users\\\\User\\\\OneDrive\\\\Documents\\\\Moringa School\\\\course\\\\phase_4\\\\Phase _4 group project\\\\Dow Jones Industrial Average Historical Data.csv')\n",
    "df"
   ]
  },
  {
   "cell_type": "markdown",
   "metadata": {},
   "source": [
    "### Inspect the Data"
   ]
  },
  {
   "cell_type": "code",
   "execution_count": 4,
   "metadata": {},
   "outputs": [
    {
     "name": "stdout",
     "output_type": "stream",
     "text": [
      "<class 'pandas.core.frame.DataFrame'>\n",
      "RangeIndex: 6013 entries, 0 to 6012\n",
      "Data columns (total 7 columns):\n",
      " #   Column    Non-Null Count  Dtype \n",
      "---  ------    --------------  ----- \n",
      " 0   Date      6013 non-null   object\n",
      " 1   Price     6013 non-null   object\n",
      " 2   Open      6013 non-null   object\n",
      " 3   High      6013 non-null   object\n",
      " 4   Low       6013 non-null   object\n",
      " 5   Vol.      6013 non-null   object\n",
      " 6   Change %  6013 non-null   object\n",
      "dtypes: object(7)\n",
      "memory usage: 329.0+ KB\n"
     ]
    }
   ],
   "source": [
    "# check the data types  \n",
    "df.info()"
   ]
  },
  {
   "cell_type": "code",
   "execution_count": 9,
   "metadata": {},
   "outputs": [],
   "source": [
    "# convert the data types to the desired datatypes\n",
    "# 1. Convert the date column to datetime datatype\n",
    "df['Date'] = pd.to_datetime(df['Date'])\n",
    "\n",
    "# 2. convert the Price, Open, High, Low Columns to float format\n",
    "df['Price'] = df['Price'].str.replace(',', '').astype(float)\n",
    "df['Open'] = df['Open'].str.replace(',', '').astype(float)\n",
    "df['High'] = df['High'].str.replace(',', '').astype(float)\n",
    "df['Low'] = df['Low'].str.replace(',', '').astype(float)\n",
    "\n",
    "# 3. Convert the Vol. column to Float format after converting 'M' (millions) to numeric values.\n",
    "# Remove 'M' and convert to numeric\n",
    "df['Vol.'] = df['Vol.'].str.replace('M', '').astype(float) * 1_000_000  # Multiply by 1 million\n",
    "# Convert to integer (if no fractional values) or float\n",
    "df['Vol.'] = df['Vol.'].astype(float)  \n",
    "\n",
    "#4. Convert the % column to float formart after removing the percentage symbol\n",
    "df['Change %'] = df['Change %'].str.rstrip('%').astype(float)"
   ]
  },
  {
   "cell_type": "code",
   "execution_count": 17,
   "metadata": {},
   "outputs": [
    {
     "name": "stdout",
     "output_type": "stream",
     "text": [
      "Date        0\n",
      "Price       0\n",
      "Open        0\n",
      "High        0\n",
      "Low         0\n",
      "Vol.        0\n",
      "Change %    0\n",
      "dtype: int64\n"
     ]
    }
   ],
   "source": [
    "# Check for missing values\n",
    "print(df.isnull().sum())"
   ]
  },
  {
   "cell_type": "code",
   "execution_count": 10,
   "metadata": {},
   "outputs": [
    {
     "data": {
      "text/html": [
       "<div>\n",
       "<style scoped>\n",
       "    .dataframe tbody tr th:only-of-type {\n",
       "        vertical-align: middle;\n",
       "    }\n",
       "\n",
       "    .dataframe tbody tr th {\n",
       "        vertical-align: top;\n",
       "    }\n",
       "\n",
       "    .dataframe thead th {\n",
       "        text-align: right;\n",
       "    }\n",
       "</style>\n",
       "<table border=\"1\" class=\"dataframe\">\n",
       "  <thead>\n",
       "    <tr style=\"text-align: right;\">\n",
       "      <th></th>\n",
       "      <th>Price</th>\n",
       "      <th>Open</th>\n",
       "      <th>High</th>\n",
       "      <th>Low</th>\n",
       "      <th>Vol.</th>\n",
       "      <th>Change %</th>\n",
       "    </tr>\n",
       "  </thead>\n",
       "  <tbody>\n",
       "    <tr>\n",
       "      <th>count</th>\n",
       "      <td>6013.000000</td>\n",
       "      <td>6013.000000</td>\n",
       "      <td>6013.000000</td>\n",
       "      <td>6013.000000</td>\n",
       "      <td>6.013000e+03</td>\n",
       "      <td>6013.000000</td>\n",
       "    </tr>\n",
       "    <tr>\n",
       "      <th>mean</th>\n",
       "      <td>16951.700030</td>\n",
       "      <td>16949.014570</td>\n",
       "      <td>17049.201510</td>\n",
       "      <td>16844.343152</td>\n",
       "      <td>2.421320e+08</td>\n",
       "      <td>0.025621</td>\n",
       "    </tr>\n",
       "    <tr>\n",
       "      <th>std</th>\n",
       "      <td>8245.524402</td>\n",
       "      <td>8245.084245</td>\n",
       "      <td>8282.989166</td>\n",
       "      <td>8204.295635</td>\n",
       "      <td>1.136963e+08</td>\n",
       "      <td>1.178550</td>\n",
       "    </tr>\n",
       "    <tr>\n",
       "      <th>min</th>\n",
       "      <td>6547.050000</td>\n",
       "      <td>6547.010000</td>\n",
       "      <td>6709.610000</td>\n",
       "      <td>6469.950000</td>\n",
       "      <td>3.364000e+07</td>\n",
       "      <td>-12.930000</td>\n",
       "    </tr>\n",
       "    <tr>\n",
       "      <th>25%</th>\n",
       "      <td>10565.390000</td>\n",
       "      <td>10565.270000</td>\n",
       "      <td>10619.770000</td>\n",
       "      <td>10503.760000</td>\n",
       "      <td>1.612300e+08</td>\n",
       "      <td>-0.470000</td>\n",
       "    </tr>\n",
       "    <tr>\n",
       "      <th>50%</th>\n",
       "      <td>13074.040000</td>\n",
       "      <td>13067.180000</td>\n",
       "      <td>13140.580000</td>\n",
       "      <td>13002.770000</td>\n",
       "      <td>2.331500e+08</td>\n",
       "      <td>0.050000</td>\n",
       "    </tr>\n",
       "    <tr>\n",
       "      <th>75%</th>\n",
       "      <td>23323.660000</td>\n",
       "      <td>23224.120000</td>\n",
       "      <td>23406.350000</td>\n",
       "      <td>23067.640000</td>\n",
       "      <td>3.042100e+08</td>\n",
       "      <td>0.560000</td>\n",
       "    </tr>\n",
       "    <tr>\n",
       "      <th>max</th>\n",
       "      <td>36799.650000</td>\n",
       "      <td>36722.600000</td>\n",
       "      <td>36952.650000</td>\n",
       "      <td>36636.000000</td>\n",
       "      <td>9.226800e+08</td>\n",
       "      <td>11.370000</td>\n",
       "    </tr>\n",
       "  </tbody>\n",
       "</table>\n",
       "</div>"
      ],
      "text/plain": [
       "              Price          Open          High           Low          Vol.  \\\n",
       "count   6013.000000   6013.000000   6013.000000   6013.000000  6.013000e+03   \n",
       "mean   16951.700030  16949.014570  17049.201510  16844.343152  2.421320e+08   \n",
       "std     8245.524402   8245.084245   8282.989166   8204.295635  1.136963e+08   \n",
       "min     6547.050000   6547.010000   6709.610000   6469.950000  3.364000e+07   \n",
       "25%    10565.390000  10565.270000  10619.770000  10503.760000  1.612300e+08   \n",
       "50%    13074.040000  13067.180000  13140.580000  13002.770000  2.331500e+08   \n",
       "75%    23323.660000  23224.120000  23406.350000  23067.640000  3.042100e+08   \n",
       "max    36799.650000  36722.600000  36952.650000  36636.000000  9.226800e+08   \n",
       "\n",
       "          Change %  \n",
       "count  6013.000000  \n",
       "mean      0.025621  \n",
       "std       1.178550  \n",
       "min     -12.930000  \n",
       "25%      -0.470000  \n",
       "50%       0.050000  \n",
       "75%       0.560000  \n",
       "max      11.370000  "
      ]
     },
     "execution_count": 10,
     "metadata": {},
     "output_type": "execute_result"
    }
   ],
   "source": [
    "# summary statistics\n",
    "df.describe()"
   ]
  },
  {
   "cell_type": "markdown",
   "metadata": {},
   "source": [
    "### Visualize Time Series Data"
   ]
  },
  {
   "cell_type": "code",
   "execution_count": 11,
   "metadata": {},
   "outputs": [
    {
     "data": {
      "image/png": "[encoded data removed]",
      "text/plain": [
       "<Figure size 720x432 with 1 Axes>"
      ]
     },
     "metadata": {
      "needs_background": "light"
     },
     "output_type": "display_data"
    }
   ],
   "source": [
    "import matplotlib.pyplot as plt\n",
    "\n",
    "# Plotting the closing prices over time\n",
    "plt.figure(figsize=(10, 6))\n",
    "plt.plot(df['Date'], df['Price'])\n",
    "plt.title('Dow Jones Industrial Average Closing Prices Over Time')\n",
    "plt.xlabel('Date')\n",
    "plt.ylabel('Closing Price')\n",
    "plt.grid(True)\n",
    "plt.show()"
   ]
  },
  {
   "cell_type": "markdown",
   "metadata": {},
   "source": [
    "### Explore the Distributions and Trends"
   ]
  },
  {
   "cell_type": "code",
   "execution_count": 14,
   "metadata": {},
   "outputs": [
    {
     "data": {
      "image/png": "[encoded data removed]",
      "text/plain": [
       "<Figure size 576x432 with 1 Axes>"
      ]
     },
     "metadata": {
      "needs_background": "light"
     },
     "output_type": "display_data"
    },
    {
     "data": {
      "image/png": "[encoded data removed]",
      "text/plain": [
       "<Figure size 720x432 with 1 Axes>"
      ]
     },
     "metadata": {
      "needs_background": "light"
     },
     "output_type": "display_data"
    }
   ],
   "source": [
    "import seaborn as sns\n",
    "\n",
    "# Distribution of Closing Prices\n",
    "plt.figure(figsize=(8, 6))\n",
    "sns.histplot(df['Price'], bins=30, kde=True)\n",
    "plt.title('Distribution of Closing Prices')\n",
    "plt.xlabel('Closing Price')\n",
    "plt.ylabel('Frequency')\n",
    "plt.show()\n",
    "\n",
    "# Trends in Daily Percentage Change\n",
    "plt.figure(figsize=(10, 6))\n",
    "sns.lineplot(x=df['Date'], y=df['Change %'])\n",
    "plt.title('Daily Percentage Change in Dow Jones Industrial Average')\n",
    "plt.xlabel('Date')\n",
    "plt.ylabel('Percentage Change')\n",
    "plt.xticks(rotation=45)\n",
    "plt.show()\n"
   ]
  },
  {
   "cell_type": "markdown",
   "metadata": {},
   "source": [
    "### Corellation Analysis"
   ]
  },
  {
   "cell_type": "code",
   "execution_count": 15,
   "metadata": {},
   "outputs": [
    {
     "data": {
      "image/png": "[encoded data removed]",
      "text/plain": [
       "<Figure size 720x576 with 2 Axes>"
      ]
     },
     "metadata": {
      "needs_background": "light"
     },
     "output_type": "display_data"
    }
   ],
   "source": [
    "# Correlation matrix\n",
    "correlation_matrix = df.corr()\n",
    "\n",
    "# Heatmap to visualize correlations\n",
    "plt.figure(figsize=(10, 8))\n",
    "sns.heatmap(correlation_matrix, annot=True, cmap='coolwarm', fmt='.2f')\n",
    "plt.title('Correlation Heatmap')\n",
    "plt.show()\n"
   ]
  },
  {
   "cell_type": "code",
   "execution_count": null,
   "metadata": {},
   "outputs": [],
   "source": []
  }
 ],
 "metadata": {
  "kernelspec": {
   "display_name": "learn-env",
   "language": "python",
   "name": "python3"
  },
  "language_info": {
   "codemirror_mode": {
    "name": "ipython",
    "version": 3
   },
   "file_extension": ".py",
   "mimetype": "text/x-python",
   "name": "python",
   "nbconvert_exporter": "python",
   "pygments_lexer": "ipython3",
   "version": "3.8.5"
  }
 },
 "nbformat": 4,
 "nbformat_minor": 2
}
